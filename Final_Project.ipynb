{
 "cells": [
  {
   "cell_type": "markdown",
   "metadata": {},
   "source": [
    "# Mapping Emotions Between Music and Lyrics"
   ]
  },
  {
   "cell_type": "markdown",
   "metadata": {},
   "source": [
    "In this project we are explore the alignment of emotions between music and lyrics. \n",
    "\n",
    "To this end we are leveraging `MuLan embeddings`, a joint audio-language embedding model. By mapping music audio and natural language descriptions into a shared embedding space, MuLan enables us to capture semantic and emotional similarities across modalities. Our aim is to analyze and visualize the emotional alignment between music and lyrics."
   ]
  },
  {
   "cell_type": "markdown",
   "metadata": {},
   "source": [
    "## Initial Setup\n",
    "\n",
    "Here we will setup basic dependencies for our project. Like enviorment file reading library loading etc "
   ]
  },
  {
   "cell_type": "code",
   "execution_count": 1,
   "metadata": {},
   "outputs": [],
   "source": [
    "from acrcloud.recognizer import ACRCloudRecognizer\n",
    "import os\n",
    "from dotenv import load_dotenv\n",
    "from Meta_Data_Collection import MetaDataCollection \n",
    "\n",
    "load_dotenv()\n",
    "\n",
    "acr_host=os.getenv('HOST')\n",
    "acr_access_key=os.getenv('ACCESS_KEY')\n",
    "arc_secret=os.getenv('SECRET_KEY')"
   ]
  },
  {
   "cell_type": "markdown",
   "metadata": {},
   "source": [
    "## Data Collection"
   ]
  },
  {
   "cell_type": "markdown",
   "metadata": {},
   "source": [
    "For our data we are using a combination of the [DEAM dataset](https://cvml.unige.ch/databases/DEAM/) for audio and [LyricWiki](https://pypi.org/project/lyricwikia/) for the lyrics. \n",
    "\n",
    "- DEAM contains over 1,800 songs with annotations for dynamic and continuous emotion labels (valence and arousal) at the level of short segments. \n",
    "\n",
    "- While it does not contain raw audio data, LyricWiki and Musixmatch add lyric annotations for semantic and sentiment analysis."
   ]
  },
  {
   "cell_type": "markdown",
   "metadata": {},
   "source": [
    "### Getting Audio Meta-data\n",
    "\n",
    "Altought DEAM contains the raw audio files with annotations, it however does not contain the meta-data (Song Titel, Author, Year of release.. etc) which will be required to get the lyrics from lyric wiki. So for this we will be using `ACR Cloud` api. \n",
    "\n",
    "- ACR Cloud is recognition services that can identify music based on audio fingerprints."
   ]
  },
  {
   "cell_type": "code",
   "execution_count": 2,
   "metadata": {},
   "outputs": [],
   "source": [
    "## Setup ACR Cloud for music recognition and get all the metadata\n",
    "\n",
    "config = {\n",
    "    \"host\": acr_host, \n",
    "    \"access_key\": acr_access_key,\n",
    "    \"access_secret\": arc_secret,\n",
    "    \"timeout\": 10 #seconds\n",
    "}\n",
    "\n",
    "recognizer = ACRCloudRecognizer(config)\n",
    "metadata_collector = MetaDataCollection(recognizer)\n",
    "\n",
    "audio_directory = \"Data/MEMD_audio\"\n",
    "output_csv = \"song_metadata.csv\"\n",
    "\n",
    "# metadata_collector.process_audio_files(audio_directory, output_csv)"
   ]
  },
  {
   "cell_type": "code",
   "execution_count": 3,
   "metadata": {},
   "outputs": [
    {
     "name": "stdout",
     "output_type": "stream",
     "text": [
      "Processing: Data/Test_data/2041.mp3\n",
      "{'cost_time': 0.93899989128113, 'result_type': 0, 'status': {'code': 0, 'msg': 'Success', 'version': '1.0'}, 'metadata': {'timestamp_utc': '2024-11-16 19:49:11', 'music': [{'title': 'Little White Church', 'album': {'name': 'Hymns About Her'}, 'external_ids': {'isrc': 'USCGJ0603914', 'upc': '0842841006908'}, 'duration_ms': 155400, 'db_begin_time_offset_ms': 0, 'artists': [{'name': 'Steven Dunston'}], 'sample_begin_time_offset_ms': 0, 'sample_end_time_offset_ms': 9540, 'acrid': 'cd1cf39209e5ee0c46e223734756b802', 'result_from': 1, 'release_date': '2006-01-01', 'external_metadata': {'deezer': {'artists': [{'id': '312289', 'name': 'Steven Dunston'}], 'album': {'id': '7578517', 'name': 'Hymns About Her'}, 'track': {'id': '76429152', 'name': 'Little White Church'}}, 'spotify': {'artists': [{'id': '4Vn0PVNmV1KLouN7qQQ74I', 'name': 'Steven Dunston'}], 'album': {'id': '4z1QEGLAbKzlaPrXvSnSCj', 'name': 'Hymns About Her'}, 'track': {'id': '6RMgrY7XTjhkiSKnd8X2rE', 'name': 'Little White Church'}}, 'youtube': {'vid': 'v3T2wLCmNiA'}}, 'score': 100, 'db_end_time_offset_ms': 9540, 'play_offset_ms': 10500, 'label': 'Stonyhill Music'}]}}\n",
      "Processing: Data/Test_data/2042.mp3\n",
      "{'status': {'version': '1.0', 'msg': 'No result', 'code': 1001}}\n",
      "Processing: Data/Test_data/2043.mp3\n",
      "{'status': {'code': 1001, 'msg': 'No result', 'version': '1.0'}}\n",
      "Processing: Data/Test_data/2044.mp3\n",
      "{'result_type': 0, 'metadata': {'timestamp_utc': '2024-11-16 19:49:13', 'music': [{'duration_ms': 214000, 'db_begin_time_offset_ms': 15960, 'sample_begin_time_offset_ms': 0, 'sample_end_time_offset_ms': 3280, 'play_offset_ms': 25700, 'result_from': 1, 'label': 'Flipper Srl', 'album': {'name': 'Lonely Planet Vol. 7 - Central America', 'id': '716b3f70027146ba'}, 'external_metadata': {'deezer': {'track': {'name': 'La Habana', 'id': '782024542'}, 'album': {'name': ''}, 'artists': [{'id': 199428, 'name': 'Tito Rinesi'}]}, 'spotify': {'track': {'name': 'La Habana', 'id': '0k2S3pTQGfzEDcHTsBPkUv'}, 'album': {'id': '2CddttZ9RiXae2rK9tUAlB', 'name': 'Lonely Planet, Vol. 7: Central America'}, 'artists': [{'name': 'Tito Rinesi', 'id': '31kkBLgNWnQtroXrsHmUxC'}]}, 'youtube': {'vid': '-MN8LKn2BFk'}}, 'title': 'La Habana', 'db_end_time_offset_ms': 19240, 'artists': [{'name': 'Tito Rinesi'}], 'score': 82, 'release_date': '2019-10-07', 'acrid': '4365fe8efee01271a3b30bfc430c438d', 'external_ids': {'isrc': 'IT7151906506'}}, {'genres': [{'name': 'World'}, {'name': 'South America'}, {'name': 'Pop'}], 'duration_ms': 169000, 'db_begin_time_offset_ms': 0, 'external_ids': {'upc': '0828837020127', 'isrc': 'USHM20325686'}, 'sample_begin_time_offset_ms': 0, 'sample_end_time_offset_ms': 6080, 'play_offset_ms': 9760, 'result_from': 1, 'label': 'Morton Davis Productions', 'external_metadata': {'deezer': {'track': {'name': 'La espanola [ The Spaniard ]', 'id': '8920701'}, 'album': {'id': '818724', 'name': 'La Guitarra Romántica'}, 'artists': [{'id': '1115684', 'name': 'Morton Davis'}]}, 'spotify': {'track': {'name': 'La Espanola - The Spaniard', 'id': '0zDVQvshkxrPLsqKBKShiS'}, 'album': {'id': '60VP3Ecc1mldPCKYx1lPLt', 'name': 'La Guitarra Romántica'}, 'artists': [{'name': 'Morton Davis', 'id': '561GyCqZSVxQireroNluas'}]}, 'youtube': {'vid': '29v6X6K2Zmc'}}, 'album': {'name': 'La Guitarra Romántica'}, 'release_date': '2002-01-01', 'artists': [{'name': 'Morton Davis'}], 'db_end_time_offset_ms': 6100, 'score': 61, 'acrid': 'f7b60149ff4385bbb8756eea4229ee32', 'title': 'La espanola [ The Spaniard ]'}]}, 'status': {'version': '1.0', 'msg': 'Success', 'code': 0}, 'cost_time': 0.39299988746643}\n",
      "Processing: Data/Test_data/2045.mp3\n",
      "{'status': {'code': 1001, 'msg': 'No result', 'version': '1.0'}}\n",
      "Processing: Data/Test_data/2046.mp3\n",
      "{'result_type': 0, 'metadata': {'timestamp_utc': '2024-11-16 19:49:15', 'music': [{'genres': [{'name': 'DANCE & ELECTRONIC'}], 'duration_ms': 182000, 'db_begin_time_offset_ms': 75100, 'external_ids': {'upc': '0053000631248', 'isrc': 'QM42K1803905'}, 'sample_begin_time_offset_ms': 1360, 'title': 'Fuoriclasse', 'play_offset_ms': 83480, 'result_from': 1, 'label': 'SoFarUnknown.Rec', 'external_metadata': {'deezer': {'track': {'name': 'Fuoriclasse', 'id': '569757642'}, 'album': {'id': 75910722, 'name': 'Fuoriclasse'}, 'artists': [{'name': 'Restrict Flavour', 'id': 10253608}]}, 'spotify': {'track': {'name': 'Fuoriclasse', 'id': '6LXFEP2THDwBAQFhVZdl57'}, 'album': {'id': '1tapJ3Y1lCCQ98DEsdXENs', 'name': 'Fuoriclasse'}, 'artists': [{'name': 'Restrict Flavour', 'id': '4JrtanYAQqGmG9GsWH6gmx'}]}}, 'album': {'name': 'Fuoriclasse'}, 'release_date': '2018-10-31', 'artists': [{'name': 'Restrict Flavour'}], 'db_end_time_offset_ms': 83480, 'score': 49, 'acrid': '81dfd4f43366cba8a8114211404d5f3b', 'sample_end_time_offset_ms': 9740}, {'duration_ms': 401000, 'db_begin_time_offset_ms': 180040, 'db_end_time_offset_ms': 185700, 'sample_begin_time_offset_ms': 1500, 'sample_end_time_offset_ms': 7160, 'play_offset_ms': 188280, 'result_from': 1, 'label': 'Nash Music Library', 'external_metadata': {'deezer': {'track': {'name': 'SC-5508', 'id': '1479835772'}, 'album': {'id': 255286532, 'name': 'Long Size 3 (NSC-751 / International Version Vol. 55)'}, 'artists': [{'id': 143893372, 'name': 'Nash Music Library'}]}, 'spotify': {'track': {'name': 'SC-5508', 'id': '57VWaql7XbOLYhn16Yj38v'}, 'album': {'id': '0DKuxGsqg6uxZZ4hvJDzZA', 'name': 'Long Size 3 (NSC-751 / International Version Vol. 55)'}, 'artists': [{'id': '0UU8zrQYSwhhqCmpLURvrv', 'name': 'Nash Music Library'}]}}, 'album': {'name': '2_Inter'}, 'title': 'SC-5508', 'artists': [{'name': 'Nash Music Library'}], 'score': 46, 'release_date': '2009-01-10', 'acrid': '8e7e92ee15211867ced7b3e29842aec4', 'external_ids': {'isrc': 'JPC850810740'}}, {'genres': [{'id': 85, 'name': 'Alternative'}, {'id': 86, 'name': 'Indie Pop'}, {'id': 87, 'name': 'Indie Rock'}], 'duration_ms': 102000, 'db_end_time_offset_ms': 35720, 'sample_begin_time_offset_ms': 0, 'sample_end_time_offset_ms': 8300, 'play_offset_ms': 37160, 'result_from': 1, 'label': 'GENDER DEATH', 'external_metadata': {'deezer': {'track': {'name': '2soon', 'id': '2485837741'}, 'album': {'id': '496712711', 'name': '222tamaki ♡ Love, Tamaki'}, 'artists': [{'id': '7809106', 'name': 'Ian Starr'}]}}, 'album': {'name': '222tamaki ♡ Love, Tamaki'}, 'title': '2soon', 'external_ids': {'upc': '0198088829108', 'isrc': 'QZTB52369464'}, 'artists': [{'name': 'Ian Starr'}], 'score': 43, 'release_date': '2023-10-05', 'acrid': '9ec7a4e4e55d9caf05702d0e7a4d37a2', 'db_begin_time_offset_ms': 27780}]}, 'status': {'version': '1.0', 'msg': 'Success', 'code': 0}, 'cost_time': 0.40400004386902}\n",
      "Processing: Data/Test_data/2047.mp3\n",
      "{'status': {'version': '1.0', 'msg': 'No result', 'code': 1001}}\n",
      "Processing: Data/Test_data/2048.mp3\n",
      "{'status': {'version': '1.0', 'msg': 'No result', 'code': 1001}}\n",
      "Processing: Data/Test_data/2049.mp3\n",
      "{'status': {'version': '1.0', 'msg': 'No result', 'code': 1001}}\n",
      "Processing: Data/Test_data/2050.mp3\n",
      "{'status': {'version': '1.0', 'msg': 'No result', 'code': 1001}}\n",
      "Processing: Data/Test_data/2051.mp3\n",
      "{'status': {'code': 1001, 'msg': 'No result', 'version': '1.0'}}\n",
      "Processing: Data/Test_data/2052.mp3\n",
      "{'status': {'code': 1001, 'msg': 'No result', 'version': '1.0'}}\n",
      "Processing: Data/Test_data/2053.mp3\n",
      "{'status': {'code': 1001, 'msg': 'No result', 'version': '1.0'}}\n",
      "Processing: Data/Test_data/2054.mp3\n",
      "{'status': {'code': 1001, 'msg': 'No result', 'version': '1.0'}}\n",
      "Processing: Data/Test_data/2055.mp3\n",
      "{'status': {'version': '1.0', 'msg': 'No result', 'code': 1001}}\n",
      "Processing: Data/Test_data/2056.mp3\n",
      "{'cost_time': 0.94899988174438, 'status': {'code': 0, 'msg': 'Success', 'version': '1.0'}, 'result_type': 0, 'metadata': {'timestamp_utc': '2024-11-16 19:49:24', 'music': [{'title': '6 A.M. (feat. Rivs)', 'album': {'name': \"Rose's Madness\"}, 'external_ids': {'isrc': 'QZHN32093343', 'upc': '0195334085332'}, 'duration_ms': 245000, 'db_begin_time_offset_ms': 2300, 'artists': [{'name': 'Azzar'}], 'sample_begin_time_offset_ms': 0, 'sample_end_time_offset_ms': 6960, 'acrid': '1cc528746557370ad542d4d67b595b60', 'result_from': 1, 'release_date': '2020-06-19', 'external_metadata': {'deezer': {'artists': [{'id': '802693', 'name': 'Azzar'}, {'id': '14871977', 'name': 'RIVS'}], 'album': {'id': 150260952, 'name': \"Rose's Madness\"}, 'track': {'id': '969831852', 'name': '6 A.M. (feat. Rivs)'}}, 'spotify': {'artists': [{'id': '1NBK1G9rmufz30QkyEyncA', 'name': 'Azzar'}, {'id': '3DooKoAatcXCWdTayZhGqZ', 'name': 'Rivs'}], 'album': {'id': '1QOHtCkoI0DVIsHSBm8Dyc', 'name': \"Rose's Madness\"}, 'track': {'id': '4I6gHoWEjs2lclmaULWqV8', 'name': '6 A.M.'}}}, 'label': 'Azzar', 'score': 64, 'db_end_time_offset_ms': 8860, 'play_offset_ms': 11640}, {'title': 'Excelsior', 'album': {'name': 'Excelsior'}, 'external_ids': {'isrc': 'USWB12001887', 'upc': '0054391940896'}, 'duration_ms': 144000, 'db_begin_time_offset_ms': 1140, 'artists': [{'name': 'Mac Miller'}], 'sample_begin_time_offset_ms': 0, 'sample_end_time_offset_ms': 6960, 'acrid': '0ad9b1ffda7d914c1b9a53462d424c66', 'result_from': 1, 'genres': [{'name': 'Rap/Hip Hop'}], 'label': 'Warner Records Label', 'score': 49, 'db_end_time_offset_ms': 7600, 'external_metadata': {}, 'play_offset_ms': 10380}, {'title': 'Games Without Frontiers', 'album': {'name': 'The Flood'}, 'external_ids': {'isrc': 'DKNT61800101', 'upc': '5707471060841'}, 'duration_ms': 196160, 'db_begin_time_offset_ms': 2660, 'artists': [{'name': 'UNDERTOWdk'}], 'sample_begin_time_offset_ms': 0, 'sample_end_time_offset_ms': 6180, 'acrid': '272372efa889d91120408855cf3aa447', 'result_from': 1, 'label': 'Gateway Music', 'db_end_time_offset_ms': 7900, 'release_date': '2018-12-15', 'external_metadata': {'deezer': {'artists': [{'id': 7554668, 'name': 'UNDERTOWdk'}], 'album': {'id': 80217262, 'name': 'The Flood'}, 'track': {'id': '595553652', 'name': 'Games Without Frontiers'}}, 'spotify': {'artists': [{'id': '35oqTsaw28L9DlGL7GS6Y2', 'name': 'UNDERTOWdk'}], 'album': {'id': '6f2MUP2o1yFeJICMLcOhaC', 'name': 'The Flood'}, 'track': {'id': '2lyqaePKmPmzvS9aJarp3V', 'name': 'Games Without Frontiers'}}, 'youtube': {'vid': 'I9rrlkFqhVg'}}, 'score': 49, 'play_offset_ms': 11460}]}}\n",
      "Processing: Data/Test_data/2057.mp3\n",
      "{'status': {'code': 1001, 'msg': 'No result', 'version': '1.0'}}\n",
      "Processing: Data/Test_data/2058.mp3\n",
      "{'status': {'version': '1.0', 'msg': 'No result', 'code': 1001}}\n",
      "Metadata written to test_metadata.csv\n"
     ]
    }
   ],
   "source": [
    "metadata_collector.process_audio_files(\"Data/Test_data\", \"test_metadata.csv\")"
   ]
  },
  {
   "cell_type": "code",
   "execution_count": 32,
   "metadata": {},
   "outputs": [],
   "source": [
    "result = recognizer.recognize_by_file(\"Data/Test_Audio/2040.mp3\", 0)"
   ]
  },
  {
   "cell_type": "code",
   "execution_count": 33,
   "metadata": {},
   "outputs": [
    {
     "name": "stdout",
     "output_type": "stream",
     "text": [
      "{'music': [{'acrid': '3b197df2f91af89d59af236799f4c5a4',\n",
      "            'album': {'name': 'The 9/11 Conspiracy Blues'},\n",
      "            'artists': [{'name': 'Ralph Buckley'}],\n",
      "            'db_begin_time_offset_ms': 0,\n",
      "            'db_end_time_offset_ms': 9000,\n",
      "            'duration_ms': 221780,\n",
      "            'external_ids': {'isrc': 'USY280786817', 'upc': '0634479656262'},\n",
      "            'external_metadata': {'deezer': {'album': {'id': '803322',\n",
      "                                                       'name': 'The 9/11 '\n",
      "                                                               'Conspiracy '\n",
      "                                                               'Blues'},\n",
      "                                             'artists': [{'id': '1102664',\n",
      "                                                          'name': 'Ralph '\n",
      "                                                                  'Buckley'}],\n",
      "                                             'track': {'id': '8742204',\n",
      "                                                       'name': 'Fuck the War'}},\n",
      "                                  'youtube': {'vid': 'zCYMdmWaW6M'}},\n",
      "            'genres': [{'id': 173, 'name': 'Films/Jeux vidéo'},\n",
      "                       {'id': 210, 'name': 'Comédie'},\n",
      "                       {'id': 457, 'name': 'Livres audio'}],\n",
      "            'label': 'Ralph Buckley',\n",
      "            'play_offset_ms': 9640,\n",
      "            'release_date': '2007-01-01',\n",
      "            'result_from': 1,\n",
      "            'sample_begin_time_offset_ms': 0,\n",
      "            'sample_end_time_offset_ms': 9000,\n",
      "            'score': 100,\n",
      "            'title': 'Fuck the War'}],\n",
      " 'timestamp_utc': '2024-11-16 19:27:40'}\n"
     ]
    }
   ],
   "source": [
    "import pprint\n",
    "from json import loads\n",
    "\n",
    "res_dict = loads(result)\n",
    "\n",
    "pprint.pprint(res_dict.get(\"metadata\"))"
   ]
  },
  {
   "cell_type": "code",
   "execution_count": null,
   "metadata": {},
   "outputs": [],
   "source": []
  }
 ],
 "metadata": {
  "kernelspec": {
   "display_name": "NLP",
   "language": "python",
   "name": "python3"
  },
  "language_info": {
   "codemirror_mode": {
    "name": "ipython",
    "version": 3
   },
   "file_extension": ".py",
   "mimetype": "text/x-python",
   "name": "python",
   "nbconvert_exporter": "python",
   "pygments_lexer": "ipython3",
   "version": "3.9.19"
  }
 },
 "nbformat": 4,
 "nbformat_minor": 2
}
